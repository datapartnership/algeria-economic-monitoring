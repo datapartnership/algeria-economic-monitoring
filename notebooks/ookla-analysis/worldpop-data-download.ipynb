{
 "cells": [
  {
   "cell_type": "markdown",
   "metadata": {},
   "source": [
    "#  World Pop Data Download by certain country and time periods\n"
   ]
  },
  {
   "cell_type": "markdown",
   "metadata": {},
   "source": [
    "## Requirements"
   ]
  },
  {
   "cell_type": "code",
   "execution_count": 2,
   "metadata": {},
   "outputs": [],
   "source": [
    "\n",
    "import os, re, json, time\n",
    "from pathlib import Path\n",
    "import requests"
   ]
  },
  {
   "cell_type": "markdown",
   "metadata": {},
   "source": [
    "## Data Retrieval\n",
    "\n",
    "We retrieve populatution data for Algeria for time periods starting 2019 and ending at 2025"
   ]
  },
  {
   "cell_type": "code",
   "execution_count": null,
   "metadata": {},
   "outputs": [],
   "source": [
    "\n",
    "YEARS = range(2019, 2026)          #Specify year\n",
    "ISO3  = \"DZA\" #Specify country\n",
    "OUT   = Path(\"worldpop_DZA_100m_2019_2025\"); OUT.mkdir(exist_ok=True)\n",
    "\n",
    "HDRS = {\n",
    "    \"User-Agent\": \"Mozilla/5.0 (X11; Linux x86_64) Colab/WorldPopDownloader\",\n",
    "    \"Accept\": \"application/json, */*;q=0.8\",\n",
    "    \"Connection\": \"keep-alive\",\n",
    "}\n",
    "\n",
    "def build_direct_url(iso3, year, constrained=True):\n",
    "    \"\"\"Build direct WorldPop Global 2 URL\"\"\"\n",
    "    iso_lower = iso3.lower()\n",
    "    constraint = \"CN\" if constrained else \"UC\"\n",
    "    constraint_dir = \"constrained\" if constrained else \"unconstrained\"\n",
    "\n",
    "    return (f\"https://data.worldpop.org/GIS/Population/Global_2015_2030/\"\n",
    "            f\"R2025A/{year}/{iso3.upper()}/v1/100m/{constraint_dir}/\"\n",
    "            f\"{iso_lower}_pop_{year}_{constraint}_100m_R2025A_v1.tif\")\n",
    "\n",
    "def download(url, dest, retries=3):\n",
    "    for i in range(retries):\n",
    "        try:\n",
    "          #  print(f\"  Downloading from: {url}\")\n",
    "            with requests.get(url, headers=HDRS, stream=True, timeout=180) as r:\n",
    "                r.raise_for_status()\n",
    "                total_size = int(r.headers.get('content-length', 0))\n",
    "                downloaded = 0\n",
    "                with open(dest, \"wb\") as f:\n",
    "                    for chunk in r.iter_content(1024*1024):\n",
    "                        if chunk:\n",
    "                            f.write(chunk)\n",
    "                            downloaded += len(chunk)\n",
    "                            if total_size > 0:\n",
    "                                pct = (downloaded / total_size) * 100\n",
    "                            #    print(f\"\\r  Progress: {pct:.1f}%\", end='')\n",
    "           #     print()  \n",
    "            return\n",
    "        except Exception as e:\n",
    "            if i == retries - 1:\n",
    "                raise\n",
    "            print(f\"  Retry {i+1}/{retries} after error: {e}\")\n",
    "            time.sleep(2*(i+1))\n",
    "\n",
    "failures = []\n",
    "for y in YEARS:\n",
    "    try:\n",
    "        url = build_direct_url(ISO3, y, constrained=True)\n",
    "\n",
    "        dest = OUT / f\"dza_pop_{y}_CN_100m_R2025A_v1.tif\"\n",
    "\n",
    "        if dest.exists():\n",
    "            size_mb = dest.stat().st_size / (1024**2)\n",
    "            print(f\"[skip] {y}: {dest.name} ({size_mb:.1f} MB)\")\n",
    "        else:\n",
    "         #   print(f\"[downloading] {y}:\")\n",
    "            download(url, dest)\n",
    "            size_mb = dest.stat().st_size / (1024**2)\n",
    "            print(f\"[done] {y}: {dest.name} ({size_mb:.1f} MB)\")\n",
    "    except Exception as e:\n",
    "        print(f\"[fail] {y}: {e}\")\n",
    "        failures.append((y, str(e)))\n",
    "\n",
    "print(f\"\\n{'='*60}\")\n",
    "if failures:\n",
    "    for y, msg in failures:\n",
    "        print(f\"  {y}: {msg}\")\n",
    "else:\n",
    "    print(\"All years completed successfully!\")\n",
    "    print(f\"\\nFiles saved to: {OUT}\")\n",
    "\n",
    "    # Show total size\n",
    "    total_size = sum(f.stat().st_size for f in OUT.glob(\"*.tif\"))\n",
    "    print(f\"Total size: {total_size / (1024**3):.2f} GB\")\n"
   ]
  },
  {
   "cell_type": "markdown",
   "metadata": {},
   "source": []
  }
 ],
 "metadata": {
  "kernelspec": {
   "display_name": "algeria_economic_monitoring",
   "language": "python",
   "name": "python3"
  },
  "language_info": {
   "codemirror_mode": {
    "name": "ipython",
    "version": 3
   },
   "file_extension": ".py",
   "mimetype": "text/x-python",
   "name": "python",
   "nbconvert_exporter": "python",
   "pygments_lexer": "ipython3",
   "version": "3.11.14"
  }
 },
 "nbformat": 4,
 "nbformat_minor": 2
}
